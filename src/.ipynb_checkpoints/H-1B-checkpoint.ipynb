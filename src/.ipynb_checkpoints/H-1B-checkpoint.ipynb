{
 "cells": [
  {
   "cell_type": "code",
   "execution_count": 133,
   "metadata": {
    "collapsed": true
   },
   "outputs": [],
   "source": [
    "# Python library for readin csv file\n",
    "from csv import reader\n",
    "\n",
    "occ_dict = {}\n",
    "state_dict = {}\n",
    "n_certified = 0\n",
    "n_top = 10\n",
    "with open('../input/H1B_FY_2016.csv') as csvfin:\n",
    "    fin = reader(csvfin, delimiter=';')\n",
    "    iline=0\n",
    "    for fields in fin:\n",
    "        if iline == 0:\n",
    "            # Getting the fields' indexes\n",
    "            soc_name_ind = fields.index('SOC_NAME')\n",
    "            soc_code_ind = fields.index('SOC_CODE')\n",
    "            state_ind = fields.index('WORKSITE_STATE')\n",
    "            n_fields = len(fields)\n",
    "        else:\n",
    "            #print(len(fields))\n",
    "            if len(fields) == n_fields: # ignore line with missing data\n",
    "                # Occupation dictionary\n",
    "                occ_name = fields[soc_name_ind].strip().upper()+'__'+fields[soc_code_ind].strip().upper()\n",
    "                if occ_name not in occ_dict:\n",
    "                    occ_dict[occ_name] = [0,1]\n",
    "                else:\n",
    "                    occ_dict[occ_name][1] += 1\n",
    "                    \n",
    "                if fields[2].strip().upper() == 'CERTIFIED':\n",
    "                    occ_dict[occ_name][0] += 1\n",
    "                \n",
    "                    # State dictionary\n",
    "                    state = fields[state_ind].strip().upper()\n",
    "                    if state not in state_dict:\n",
    "                        state_dict[state] = 1\n",
    "                    else:\n",
    "                        state_dict[state] += 1\n",
    "                    n_certified += 1\n",
    "\n",
    "        iline += 1"
   ]
  },
  {
   "cell_type": "code",
   "execution_count": 134,
   "metadata": {
    "collapsed": true
   },
   "outputs": [],
   "source": [
    "top_occ = []\n",
    "for occ_name in occ_dict:\n",
    "    name = occ_name.split('__')[0]\n",
    "    top_occ.append((name, occ_dict[occ_name][0], occ_dict[occ_name][0]*100/n_certified))\n",
    "top_occ = sorted(top_occ, key=lambda x: (-x[1], x[0]), reverse=False)[0:n_top] # limit to only n_top row\n",
    "\n",
    "top_state = list(state_dict.items())\n",
    "top_state = sorted(top_state, key=lambda x: (-x[1], x[0]), reverse=False)[0:n_top] # limit to only n_top row\n",
    "\n",
    "# Writing output top occupations\n",
    "with open('../output/top_10_occupations.txt','w') as fout:\n",
    "    fout.write('TOP_OCCUPATIONS;NUMBER_CERTIFIED_APPLICATIONS;PERCENTAGE\\n')\n",
    "    for i in range(len(top_occ)):\n",
    "        fout.write(top_occ[i][0]+';'+str(top_occ[i][1])+';'+str(round(top_occ[i][2],1))+'%\\n')\n",
    "\n",
    "# Writing output top states\n",
    "with open('../output/top_10_states.txt','w') as fout:\n",
    "    fout.write('TOP_STATES;NUMBER_CERTIFIED_APPLICATIONS;PERCENTAGE\\n')\n",
    "    for i in range(len(top_state)):\n",
    "        fout.write(top_state[i][0]+';'+str(top_state[i][1])+';'+str(round(top_state[i][1]*100/n_certified,1))+'%\\n')"
   ]
  },
  {
   "cell_type": "code",
   "execution_count": null,
   "metadata": {
    "collapsed": true
   },
   "outputs": [],
   "source": []
  }
 ],
 "metadata": {
  "kernelspec": {
   "display_name": "Python 3",
   "language": "python",
   "name": "python3"
  },
  "language_info": {
   "codemirror_mode": {
    "name": "ipython",
    "version": 3
   },
   "file_extension": ".py",
   "mimetype": "text/x-python",
   "name": "python",
   "nbconvert_exporter": "python",
   "pygments_lexer": "ipython3",
   "version": "3.6.0"
  }
 },
 "nbformat": 4,
 "nbformat_minor": 2
}
